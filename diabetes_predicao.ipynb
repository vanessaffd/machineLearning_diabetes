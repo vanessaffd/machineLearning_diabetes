{
 "cells": [
  {
   "cell_type": "code",
   "execution_count": 1,
   "id": "a7f12166-9ec7-4ab0-a277-5163965f90fa",
   "metadata": {},
   "outputs": [],
   "source": [
    "# Importando as bibliotecas necessárias\n",
    "\n",
    "## Para ignorar os mensagens de aviso\n",
    "import warnings\n",
    "warnings.filterwarnings(\"ignore\")\n",
    "\n",
    "## Para manipulação dos dataframes\n",
    "import pandas as pd\n",
    "\n",
    "## Para normalização dos dados\n",
    "from sklearn.preprocessing import MinMaxScaler\n",
    "\n",
    "## Para separação dos conjuntos de dados de treino e teste\n",
    "from sklearn.model_selection import train_test_split\n",
    "\n",
    "## Para importação dos diferentes modelos de predição\n",
    "from sklearn.linear_model import LogisticRegression\n",
    "from sklearn.tree import DecisionTreeClassifier\n",
    "from sklearn.svm import SVC\n",
    "from sklearn.ensemble import RandomForestClassifier\n",
    "from sklearn.neighbors import KNeighborsClassifier\n",
    "\n",
    "## Para avaliação dos diferentes modelos de predição\n",
    "from sklearn.metrics import f1_score"
   ]
  },
  {
   "cell_type": "code",
   "execution_count": 2,
   "id": "fa5f0515-8389-47b5-9b77-f85809e240cb",
   "metadata": {},
   "outputs": [],
   "source": [
    "# Carregando a base de dados\n",
    "##Fonte: https://www.kaggle.com/datasets/iammustafatz/diabetes-prediction-dataset?resource=download\n",
    "df = pd.read_csv('diabetes_prediction_dataset.csv')"
   ]
  },
  {
   "cell_type": "code",
   "execution_count": 3,
   "id": "20766930-892e-48bf-8a64-b4425a338a71",
   "metadata": {},
   "outputs": [],
   "source": [
    "# Ajustando a base de dados para a aplicação dos modelos de predição\n",
    "df1 = df.query('smoking_history != \"No Info\"')\n",
    "#df1.columns = ['Gênero','Idade','Hipertensão','Cardipatia','Tabagismo','IMC','HbA1c','Glicose','Diabetes']\n",
    "df1 = pd.get_dummies(df1, columns=['gender', 'smoking_history'], prefix='ctg', dtype=int)"
   ]
  },
  {
   "cell_type": "code",
   "execution_count": 4,
   "id": "89ce816a-7fd1-4728-848b-034fe4a98f82",
   "metadata": {},
   "outputs": [],
   "source": [
    "#Noprmalização dos dados pelo método min mas scaler\n",
    "\n",
    "colunas_target = ['bmi','HbA1c_level','blood_glucose_level']\n",
    "\n",
    "scaler = MinMaxScaler()\n",
    "\n",
    "df1[colunas_target] = scaler.fit_transform(df1[colunas_target])\n",
    "df1[colunas_target] = round(df1[colunas_target],3)"
   ]
  },
  {
   "cell_type": "code",
   "execution_count": 5,
   "id": "a24adbe7-b4fa-4264-a982-0a77749b5279",
   "metadata": {},
   "outputs": [],
   "source": [
    "#Separando o dataset em conjunto de atributos preditivos e coluna alvo\n",
    "X = df1.drop(columns='diabetes')\n",
    "y = df1['diabetes']\n",
    "y = y.to_frame()"
   ]
  },
  {
   "cell_type": "code",
   "execution_count": 6,
   "id": "1ed7ca90-720a-4aae-bb35-b68188ba1fc6",
   "metadata": {},
   "outputs": [],
   "source": [
    "#Separando o dataset em conjunto de treino e teste dos modelos\n",
    "X_treino, X_teste = train_test_split(\n",
    "    X,\n",
    "    test_size=0.3,    # 30% dos dados para teste\n",
    "    random_state=42,  # semente para reprodutibilidade\n",
    "    shuffle=True      # embaralha os dados\n",
    ")\n",
    "\n",
    "y_treino, y_teste = train_test_split(\n",
    "    y,\n",
    "    test_size=0.3,    # 30% dos dados para teste\n",
    "    random_state=42,  # semente para reprodutibilidade\n",
    "    shuffle=True      # embaralha os dados\n",
    ")"
   ]
  },
  {
   "cell_type": "code",
   "execution_count": 7,
   "id": "ce8894ca-9ea6-4dcf-adb6-43739573ec4c",
   "metadata": {},
   "outputs": [],
   "source": [
    "# Criação dos modelos de aprendizado de máquina\n",
    "logreg = LogisticRegression()\n",
    "clf = DecisionTreeClassifier()\n",
    "svc = SVC()\n",
    "rf = RandomForestClassifier(n_estimators=100, random_state=42)\n",
    "knn = KNeighborsClassifier(n_neighbors=5)"
   ]
  },
  {
   "cell_type": "code",
   "execution_count": 8,
   "id": "766d1898-67da-431d-9962-57a46abfdd26",
   "metadata": {},
   "outputs": [],
   "source": [
    "#Treinamento e avaliaçãop do modelo de Regressão logística\n",
    "logreg.fit(X_treino,y_treino)\n",
    "y_pred_a = logreg.predict(X_teste)\n",
    "F1_a = round(f1_score(y_teste, y_pred_a),3)"
   ]
  },
  {
   "cell_type": "code",
   "execution_count": 9,
   "id": "d2030a52-a7c6-4354-bd33-c8c61b151990",
   "metadata": {},
   "outputs": [],
   "source": [
    "#Treinamento e avaliaçãop da modelo de Árvore de Decisão\n",
    "clf.fit(X_treino,y_treino)\n",
    "y_pred_b = clf.predict(X_teste)\n",
    "F1_b = round(f1_score(y_teste, y_pred_b),3)"
   ]
  },
  {
   "cell_type": "code",
   "execution_count": 10,
   "id": "c43b21d2-8911-4c9f-ab4a-96f621898913",
   "metadata": {},
   "outputs": [],
   "source": [
    "#Treinamento e avaliaçãop da modelo de Árvore de Decisão\n",
    "svc.fit(X_treino,y_treino)\n",
    "y_pred_c = svc.predict(X_teste)\n",
    "F1_c = round(f1_score(y_teste, y_pred_c),3)"
   ]
  },
  {
   "cell_type": "code",
   "execution_count": 11,
   "id": "6e0d2af2-9ff4-42e7-b62d-b937ccdaa4a8",
   "metadata": {},
   "outputs": [],
   "source": [
    "#Treinamento e avaliaçãop da modelo Random Forest\n",
    "rf.fit(X_treino,y_treino)\n",
    "y_pred_d = rf.predict(X_teste)\n",
    "F1_d = round(f1_score(y_teste, y_pred_d),3)"
   ]
  },
  {
   "cell_type": "code",
   "execution_count": 12,
   "id": "0c56a998-805c-41bd-9ce3-4f561a2c36eb",
   "metadata": {},
   "outputs": [],
   "source": [
    "#Treinamento e avaliaçãop da modelo K-Nearest Neighbors\n",
    "knn.fit(X_treino,y_treino)\n",
    "y_pred_e = knn.predict(X_teste)\n",
    "F1_e = round(f1_score(y_teste, y_pred_e),3)"
   ]
  },
  {
   "cell_type": "code",
   "execution_count": 13,
   "id": "8b7d7b3e-d7ac-4c32-9516-1bfc386169c6",
   "metadata": {},
   "outputs": [
    {
     "data": {
      "text/html": [
       "<div>\n",
       "<style scoped>\n",
       "    .dataframe tbody tr th:only-of-type {\n",
       "        vertical-align: middle;\n",
       "    }\n",
       "\n",
       "    .dataframe tbody tr th {\n",
       "        vertical-align: top;\n",
       "    }\n",
       "\n",
       "    .dataframe thead th {\n",
       "        text-align: right;\n",
       "    }\n",
       "</style>\n",
       "<table border=\"1\" class=\"dataframe\">\n",
       "  <thead>\n",
       "    <tr style=\"text-align: right;\">\n",
       "      <th></th>\n",
       "      <th>Modelo</th>\n",
       "      <th>F1-Score</th>\n",
       "    </tr>\n",
       "  </thead>\n",
       "  <tbody>\n",
       "    <tr>\n",
       "      <th>0</th>\n",
       "      <td>Regressão logística</td>\n",
       "      <td>0.732</td>\n",
       "    </tr>\n",
       "    <tr>\n",
       "      <th>1</th>\n",
       "      <td>Árvore de Decisão</td>\n",
       "      <td>0.736</td>\n",
       "    </tr>\n",
       "    <tr>\n",
       "      <th>2</th>\n",
       "      <td>SVC</td>\n",
       "      <td>0.000</td>\n",
       "    </tr>\n",
       "    <tr>\n",
       "      <th>3</th>\n",
       "      <td>Random Forest</td>\n",
       "      <td>0.800</td>\n",
       "    </tr>\n",
       "    <tr>\n",
       "      <th>4</th>\n",
       "      <td>K-Nearest Neighbors</td>\n",
       "      <td>0.493</td>\n",
       "    </tr>\n",
       "  </tbody>\n",
       "</table>\n",
       "</div>"
      ],
      "text/plain": [
       "                Modelo  F1-Score\n",
       "0  Regressão logística     0.732\n",
       "1    Árvore de Decisão     0.736\n",
       "2                  SVC     0.000\n",
       "3        Random Forest     0.800\n",
       "4  K-Nearest Neighbors     0.493"
      ]
     },
     "execution_count": 13,
     "metadata": {},
     "output_type": "execute_result"
    }
   ],
   "source": [
    "#Apresentação dos resultados de F1-Score de cada modelo, para avaliação.\n",
    "data = {\n",
    "    'Modelo' : ['Regressão logística','Árvore de Decisão','SVC','Random Forest','K-Nearest Neighbors'],\n",
    "    'F1-Score' : [F1_a,F1_b, F1_c ,F1_d,F1_e]\n",
    "}\n",
    "\n",
    "df2 = pd.DataFrame(data)\n",
    "\n",
    "df2"
   ]
  },
  {
   "cell_type": "code",
   "execution_count": null,
   "id": "f1174b68-1bb7-4529-8ba5-47a8697a414c",
   "metadata": {},
   "outputs": [],
   "source": []
  }
 ],
 "metadata": {
  "kernelspec": {
   "display_name": "Python 3 (ipykernel)",
   "language": "python",
   "name": "python3"
  },
  "language_info": {
   "codemirror_mode": {
    "name": "ipython",
    "version": 3
   },
   "file_extension": ".py",
   "mimetype": "text/x-python",
   "name": "python",
   "nbconvert_exporter": "python",
   "pygments_lexer": "ipython3",
   "version": "3.12.4"
  }
 },
 "nbformat": 4,
 "nbformat_minor": 5
}
